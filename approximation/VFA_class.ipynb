{
  "nbformat": 4,
  "nbformat_minor": 0,
  "metadata": {
    "colab": {
      "name": "VFA_class.ipynb",
      "provenance": [],
      "collapsed_sections": []
    },
    "kernelspec": {
      "name": "python3",
      "display_name": "Python 3"
    },
    "language_info": {
      "name": "python"
    }
  },
  "cells": [
    {
      "cell_type": "markdown",
      "metadata": {
        "id": "mk8gq_FBlkQq"
      },
      "source": [
        "# Value Function Approximation"
      ]
    },
    {
      "cell_type": "markdown",
      "source": [
        "Canvas > Files > codes"
      ],
      "metadata": {
        "id": "r6srHXnb4rfF"
      }
    },
    {
      "cell_type": "markdown",
      "metadata": {
        "id": "5--INGLinIOO"
      },
      "source": [
        "## Review Numpy Inner Product\n",
        "Vectors: $\\mathbf{x}, \\mathbf{w}$\n",
        "\n",
        "Inner product: $\\mathbf{x}^\\top \\mathbf{w}$"
      ]
    },
    {
      "cell_type": "code",
      "metadata": {
        "id": "X54ycCjkmwk7"
      },
      "source": [
        "import numpy as np\n",
        "import random\n",
        "import matplotlib.pyplot as plt"
      ],
      "execution_count": null,
      "outputs": []
    },
    {
      "cell_type": "code",
      "metadata": {
        "colab": {
          "base_uri": "https://localhost:8080/"
        },
        "id": "iFuuq4R-ljpa",
        "outputId": "d1de4322-6b26-4e06-bd25-34a223e742a0"
      },
      "source": [
        "\n",
        "x = np.array([1, 2])\n",
        "w = np.array([3, 4])\n",
        "\n",
        "ip = np.dot(x, w) # inner product / dot product\n",
        "print(ip)"
      ],
      "execution_count": null,
      "outputs": [
        {
          "output_type": "stream",
          "name": "stdout",
          "text": [
            "11\n"
          ]
        }
      ]
    },
    {
      "cell_type": "markdown",
      "metadata": {
        "id": "qlGWlM2fnNRS"
      },
      "source": [
        "## Representing States with Feature Vectors\n",
        "Let's decide how we represent states using features.\n",
        "\n",
        "Define a function $x$ that maps a state to the corresponding feature vector\n",
        "\n",
        "$$x(S_1) = [1,1]$$\n",
        "$$x(S_2) = [2,1]$$"
      ]
    },
    {
      "cell_type": "markdown",
      "metadata": {
        "id": "omi7PGxXpJso"
      },
      "source": [
        "## Approximating Value Function\n",
        "Now, instead of storing the value function $v$ in a table, let's parameterize $v$ with weight $\\mathbf{w}$.\n",
        "\n",
        "$$v(S,\\mathbf{w}) = x(S)^\\top \\mathbf{w}= \\sum_j x_j(S)\\mathbf{w}_j$$\n",
        "\n",
        "e.g. If $\\mathbf{w} = [1,1]$, the V value of state $S_1$ and $S_2$ are:"
      ]
    },
    {
      "cell_type": "code",
      "metadata": {
        "colab": {
          "base_uri": "https://localhost:8080/"
        },
        "id": "UeIOvMK5qaMw",
        "outputId": "e9a141a6-e8a3-4c78-e59f-0582f0bee3f0"
      },
      "source": [
        "xs1 = np.array([1, 1])\n",
        "xs2 = np.array([1, 2])\n",
        "\n",
        "xs3 = np.array([1, 2])\n",
        "xs4 = np.array([1, 2])\n",
        "\n",
        "# table of V\n",
        "# V = [3.4, 3] \n",
        "\n",
        "\n",
        "#initial weight w\n",
        "w = np.array([1, 1])\n",
        "\n",
        "# linear approx\n",
        "vs1 = np.dot(xs1, w)\n",
        "vs2 = np.dot(xs2, w)\n",
        "print(f'V(S1) = {vs1}, V(S2) = {vs2}')"
      ],
      "execution_count": null,
      "outputs": [
        {
          "output_type": "stream",
          "name": "stdout",
          "text": [
            "V(S1) = 2, V(S2) = 3\n"
          ]
        }
      ]
    },
    {
      "cell_type": "markdown",
      "metadata": {
        "id": "SJfqm_vBq0V2"
      },
      "source": [
        "So if we change $\\mathbf{w}$, we can change the value function.\n",
        "\n",
        "But how do we choose a nice $\\mathbf{w}$ to have an accurate V values for all states?\n",
        "\n",
        "We want to approximate TRUE value function $v$. Assume a blackbox algorithm gave us the true value funcrion. For example, $v(S_1) = 4$, and $v(S_2) = 6$.\n",
        "\n",
        "\n",
        "\n",
        "\n",
        "\n",
        "\n"
      ]
    },
    {
      "cell_type": "markdown",
      "metadata": {
        "id": "1qpFh328tPlp"
      },
      "source": [
        "----------------------------\n",
        "I think you can understand the benefits of function approx now, comparing it with the tabular method.\n",
        "1. Even when you visit a state (e.g. $S_1$), the value function of the other states is also updated (e.g. $S_2$).\n",
        "2. You can reduce memory to save the value function. Imagine you have 1 million states like $S_1$. If it's the tabular method, you need to store 1 million entries of $(s, v(s))$. If it's function approx, you only store two numbers $w = (w_1, w_2)$.\n",
        "----------------------------"
      ]
    },
    {
      "cell_type": "code",
      "metadata": {
        "colab": {
          "base_uri": "https://localhost:8080/"
        },
        "id": "d7Tdb_jfZx8q",
        "outputId": "7e804dd7-f96e-4aee-f631-85c89c1c9820"
      },
      "source": [
        "w = np.array([2, 2])\n",
        "\n",
        "vs1 = np.dot(xs1, w)\n",
        "vs2 = np.dot(xs2, w)\n",
        "print(f'V(S1) = {vs1}, V(S2) = {vs2}')"
      ],
      "execution_count": null,
      "outputs": [
        {
          "output_type": "stream",
          "name": "stdout",
          "text": [
            "V(S1) = 4, V(S2) = 6\n"
          ]
        }
      ]
    },
    {
      "cell_type": "markdown",
      "metadata": {
        "id": "-V_TWh3bZylt"
      },
      "source": [
        "So we know $\\mathbf{w}^* = [2,2]$ is the best parameter approximating $v$. \n",
        "\n",
        "Is there any way to find such $\\mathbf{w}^*$? The best $\\mathbf{w}^*$ should minimize the loss function:\n",
        "$$J(\\mathbf{w})=\\mathbb{E}_{\\pi}\\left[\\left(v(S)-\\mathbf{x}(S)^{\\top} \\mathbf{w}^*\\right)^{2}\\right]$$\n",
        "This is becase, in the ideal scenario, $v(s) = \\mathbf{x}(S)^{\\top} \\mathbf{w}^*$\n",
        "\n",
        "Here, it is a simple minimization of function $J(\\mathbf{w})$. Therefore, we can use the gradient descent method to solve it.\n",
        "\n",
        "$$\\begin{aligned} \\Delta \\mathbf{w} &=-\\frac{1}{2} \\alpha \\nabla_{\\mathbf{w}} J(\\mathbf{w}) \\\\ &=\\alpha \\mathbb{E}_{\\pi}\\left[\\left(v_{\\pi}(S)-\\hat{v}(S, \\mathbf{w})\\right) \\nabla_{\\mathbf{w}} \\hat{v}(S, \\mathbf{w})\\right] \\end{aligned}$$\n",
        "\n",
        "Then, $$\\mathbf{w} \\gets \\mathbf{w} + \\Delta \\mathbf{w}$$\n",
        "\n",
        "If it is stochastic GD, we can use the following:\n",
        "$$\\Delta \\mathbf{w}=\\alpha\\left(v_{\\pi}(S)-\\hat{v}(S, \\mathbf{w})\\right) \\nabla_{\\mathbf{w}} \\hat{v}(S, \\mathbf{w})$$\n",
        "\n",
        "Since we have $v(s) = \\mathbf{x}(S)^{\\top} \\mathbf{w}^*$, $$\\nabla_{\\mathbf{w}} v(S, \\mathbf{w}) = x(S).$$"
      ]
    },
    {
      "cell_type": "code",
      "source": [
        "def plotJs(Js, show_limit = 80):\n",
        "  plt.plot(range(0,show_limit), Js[0:show_limit], label='J')\n",
        "  plt.ylabel('Loss Function J')\n",
        "  plt.xlabel('Iteration Round')\n",
        "  plt.plot()\n",
        "  plt.show()"
      ],
      "metadata": {
        "id": "DP4bzp15b3g8"
      },
      "execution_count": null,
      "outputs": []
    },
    {
      "cell_type": "code",
      "metadata": {
        "id": "-gzk6QKyeVVf",
        "colab": {
          "base_uri": "https://localhost:8080/",
          "height": 1000
        },
        "outputId": "be7ad446-b5a8-4b28-9821-5baeb1177458"
      },
      "source": [
        "num_iter = 10000\n",
        "\n",
        "# step size\n",
        "alpha = 0.02\n",
        "\n",
        "true_vs1 = 4\n",
        "true_vs2 = 6\n",
        "\n",
        "# initialization\n",
        "w = np.array([1,1])\n",
        "\n",
        "# randomly pick one of the states \n",
        "# and execute the stochastic gradient\n",
        "\n",
        "Js = []\n",
        "\n",
        "for i in range(num_iter):\n",
        "  if random.random() < 0.5:\n",
        "    xs = xs1\n",
        "    true_vs = true_vs1\n",
        "  else:\n",
        "    xs = xs2\n",
        "    true_vs = true_vs2\n",
        "\n",
        "  vs = np.dot(xs, w) # calc the current approx of V(s)\n",
        "  \n",
        "  J = pow(true_vs - vs, 2) # calc the loss func J\n",
        "\n",
        "  w = w + alpha * (true_vs - vs) * xs # update w\n",
        "\n",
        "  # print(f'xs: {xs}')\n",
        "\n",
        "  Js.append(J)\n",
        "\n",
        "  # Print every 100 rounds\n",
        "  if i % 100 == 0:\n",
        "    print(f'w: {w}, J: {J}')\n",
        "\n",
        "print(f'Final w: {w}')\n",
        "plotJs(Js)"
      ],
      "execution_count": null,
      "outputs": [
        {
          "output_type": "stream",
          "name": "stdout",
          "text": [
            "w: [1.04 1.04], J: 4\n",
            "w: [1.78652822 2.13021135], J: 0.0027214669861636972\n",
            "w: [1.81554813 2.11262607], J: 0.005597814074588448\n",
            "w: [1.84507408 2.10108556], J: 0.003145382031234326\n",
            "w: [1.8627489  2.08003329], J: 0.0006426497489334478\n",
            "w: [1.88279924 2.06988234], J: 0.0006285560402270214\n",
            "w: [1.90103441 2.06378926], J: 0.001342636793659103\n",
            "w: [1.91247258 2.05111337], J: 0.0002667531753366021\n",
            "w: [1.92390906 2.04430128], J: 0.00019326013215202888\n",
            "w: [1.93351283 2.03842204], J: 0.000854656619630592\n",
            "w: [1.94176219 2.03354176], J: 0.0006617782669494566\n",
            "w: [1.95117225 2.03114323], J: 0.00033934701588353466\n",
            "w: [1.95766904 2.02630053], J: 0.0002788356593775597\n",
            "w: [1.96358999 2.02326252], J: 0.00012631341611305327\n",
            "w: [1.9672166  2.01815724], J: 1.539324042361247e-05\n",
            "w: [1.97294431 2.01737106], J: 0.00010177087226536199\n",
            "w: [1.97717834 2.01542662], J: 5.933875661954734e-05\n",
            "w: [1.97971019 2.01234503], J: 6.848902914924708e-05\n",
            "w: [1.98237775 2.01045241], J: 1.3302840546445935e-05\n",
            "w: [1.98456804 2.00878337], J: 5.626317143953313e-06\n",
            "w: [1.98650002 2.0074625 ], J: 2.5069953126156814e-06\n",
            "w: [1.98820289 2.00677156], J: 2.7404698938496805e-05\n",
            "w: [1.98996612 2.00597468], J: 4.5297394811370715e-06\n",
            "w: [1.99162987 2.00553422], J: 8.726517037463234e-06\n",
            "w: [1.99266867 2.00457018], J: 4.0402550290218275e-06\n",
            "w: [1.99357606 2.00382912], J: 7.3058990484265875e-06\n",
            "w: [1.99422617 2.00330901], J: 6.592127252974343e-06\n",
            "w: [1.99513819 2.00305972], J: 3.5238115044669077e-06\n",
            "w: [1.99584625 2.00271377], J: 2.249926204201617e-06\n",
            "w: [1.9963509 2.0022189], J: 7.679436867680316e-07\n",
            "w: [1.99687507 2.00202494], J: 1.312918778552634e-06\n",
            "w: [1.99725661 2.00166314], J: 1.2662153201300074e-06\n",
            "w: [1.99765599 2.00145751], J: 4.025205125788593e-07\n",
            "w: [1.99798594 2.00129575], J: 4.1164923185052174e-07\n",
            "w: [1.99827768 2.00113861], J: 3.697035484835595e-07\n",
            "w: [1.99847654 2.00092692], J: 1.3476140758309424e-07\n",
            "w: [1.99863842 2.0007618 ], J: 3.9033839297554577e-07\n",
            "w: [1.99884802 2.00073374], J: 1.8980606469330308e-07\n",
            "w: [1.9990097  2.00063533], J: 1.36721589120403e-07\n",
            "w: [1.99912755 2.00051229], J: 1.407538885108473e-07\n",
            "w: [1.99925015 2.0004465 ], J: 9.98456375301662e-08\n",
            "w: [1.99937386 2.00040717], J: 5.202576789384054e-08\n",
            "w: [1.99944419 2.00032484], J: 1.0879277769986837e-08\n",
            "w: [1.99953561 2.0002971 ], J: 2.0800887134509473e-08\n",
            "w: [1.99959725 2.00024908], J: 1.1239349015591312e-08\n",
            "w: [1.99964632 2.00021478], J: 7.107551310172367e-09\n",
            "w: [1.99969831 2.00018479], J: 5.691780183882466e-09\n",
            "w: [1.99974352 2.00016355], J: 6.158121830394482e-09\n",
            "w: [1.99976996 2.00013205], J: 1.4314075369433546e-09\n",
            "w: [1.99980696 2.00012048], J: 2.835996552398962e-09\n",
            "w: [1.99983186 2.00009904], J: 1.1065089068388348e-09\n",
            "w: [1.99985358 2.00008344], J: 5.16398357618331e-10\n",
            "w: [1.99987801 2.0000799 ], J: 1.9225116527611793e-09\n",
            "w: [1.99989346 2.00006586], J: 1.7961725040991464e-09\n",
            "w: [1.99990385 2.00005421], J: 1.8603759148460854e-10\n",
            "w: [1.99991957 2.00004987], J: 1.0137489201697415e-09\n",
            "w: [1.99993116 2.00004324], J: 3.8414395354351797e-10\n",
            "w: [1.99994063 2.00003831], J: 4.811004344050062e-10\n",
            "w: [1.99994575 2.0000306 ], J: 5.957468004003419e-11\n",
            "w: [1.99995414 2.00002823], J: 1.3866876488717414e-10\n",
            "w: [1.99996144 2.00002558], J: 1.8290302766509225e-10\n",
            "w: [1.99996538 2.00001984], J: 3.16552394582705e-11\n",
            "w: [1.99997142 2.0000191 ], J: 9.747590280840702e-11\n",
            "w: [1.99997497 2.00001569], J: 4.9744054215146144e-11\n",
            "w: [1.99997853 2.0000138 ], J: 4.627204941383378e-11\n",
            "w: [1.99998137 2.0000118 ], J: 5.058472384472473e-11\n",
            "w: [1.99998342 2.00000935], J: 5.606109226394221e-12\n",
            "w: [1.99998626 2.00000889], J: 2.5577402314737945e-11\n",
            "w: [1.99998824 2.00000771], J: 1.6560577681730772e-11\n",
            "w: [1.99998954 2.00000643], J: 1.7611389849970287e-11\n",
            "w: [1.99999104 2.00000558], J: 1.2394130023554575e-11\n",
            "w: [1.99999208 2.00000461], J: 2.0953009334839076e-12\n",
            "w: [1.99999322 2.00000398], J: 8.531018115857618e-12\n",
            "w: [1.99999414 2.00000341], J: 1.163782259835342e-12\n",
            "w: [1.99999512 2.00000323], J: 2.9610536456977964e-12\n",
            "w: [1.99999567 2.00000258], J: 3.3253135678997108e-12\n",
            "w: [1.99999631 2.00000226], J: 2.2084727840997753e-12\n",
            "w: [1.99999695 2.00000214], J: 1.8364074628983186e-12\n",
            "w: [1.99999727 2.00000166], J: 4.2713526458941716e-13\n",
            "w: [1.99999761 2.00000141], J: 2.285547901847934e-13\n",
            "w: [1.99999792 2.00000128], J: 6.998412926167747e-13\n",
            "w: [1.99999821 2.00000111], J: 5.008003058792662e-13\n",
            "w: [1.99999846 2.00000098], J: 3.351358460591306e-13\n",
            "w: [1.9999987  2.00000088], J: 1.9219706825306797e-13\n",
            "w: [1.99999882 2.00000067], J: 3.291799285538607e-14\n",
            "w: [1.999999  2.0000006], J: 4.980024558309286e-14\n",
            "w: [1.99999915 2.00000054], J: 1.0702320828635882e-13\n",
            "w: [1.99999926 2.00000046], J: 3.925395307330532e-14\n",
            "w: [1.99999935 2.00000039], J: 7.462394054823558e-14\n",
            "w: [1.99999944 2.00000034], J: 5.278588869846588e-14\n",
            "w: [1.99999951 2.00000029], J: 1.026355493282623e-14\n",
            "w: [1.99999959 2.00000027], J: 2.1730759381462685e-14\n",
            "w: [1.99999963 2.00000022], J: 5.422901644570849e-15\n",
            "w: [1.99999968 2.00000019], J: 4.284618011564585e-15\n",
            "w: [1.99999973 2.00000017], J: 9.43355091155884e-15\n",
            "w: [1.99999976 2.00000014], J: 3.2127535199906316e-15\n",
            "w: [1.99999979 2.00000012], J: 2.157804273001994e-15\n",
            "w: [1.99999981 2.0000001 ], J: 5.184816820781935e-16\n",
            "w: [1.99999985 2.00000011], J: 2.0829874875561152e-15\n",
            "w: [1.99999986 2.00000008], J: 6.705860724797137e-16\n",
            "Final w: [1.99999988 2.00000007]\n"
          ]
        },
        {
          "output_type": "display_data",
          "data": {
            "text/plain": [
              "<Figure size 432x288 with 1 Axes>"
            ],
            "image/png": "[encoded data removed]"
          },
          "metadata": {
            "needs_background": "light"
          }
        }
      ]
    },
    {
      "cell_type": "markdown",
      "metadata": {
        "id": "VHs_r6iMkPPu"
      },
      "source": [
        "However, we do not know the true value function in an arbitaral MDP. (This was the motivation why we started learning RL.) \n",
        "\n",
        "What we have access to is sequences of $s, a, r, s^\\prime, ...$. We know how we can estimate the true $v$ using a lot of experiences by MC, TD, and other control methods!\n",
        "\n",
        "If it is MC, we can use return $G_t$ of an episode. We can simply replace the $v_{\\pi}(S)$ term in SGD with $G_t$.\n",
        "\n",
        "$$\\Delta \\mathbf{w}=\\alpha\\left(G_t-\\hat{v}(S, \\mathbf{w})\\right) \\nabla_{\\mathbf{w}} \\hat{v}(S, \\mathbf{w})$$"
      ]
    },
    {
      "cell_type": "markdown",
      "source": [
        "For example, if it is MC:\n",
        "\n",
        "Instead of \n",
        "```\n",
        "  w = w + alpha * (true_vs - vs) * xs\n",
        "\n",
        "  J = pow(true_vs - vs, 2)\n",
        "\n",
        "```\n",
        "we will use\n",
        "```\n",
        "  w = w + alpha * (Gt - vs) * xs\n",
        "\n",
        "  J = pow(Gt - vs, 2)\n",
        "```\n",
        "\n",
        "As the accumulation of Gt estimates the true value funciton, it should approximate the targe\n",
        "\n",
        "\n",
        "(X is a terminal state.)"
      ],
      "metadata": {
        "id": "kS1VvczzN6n6"
      }
    },
    {
      "cell_type": "code",
      "source": [
        "episodes = [\n",
        "            ['s1', 'a1', '3', 'X'],\n",
        "            ['s2', 'a2', '4', 'X'],\n",
        "            ['s1', 'a2', '3.8', 'X'],\n",
        "            ['s1', 'a1', '-0.2', 's2', 'a1', '8', 'X'],\n",
        "            ['s1', 'a2', '4.5', 'X'],\n",
        "            ['s1', 'a3', '1', 's2', 'a1', '7', 'X'],\n",
        "            ['s2', 'a3', '6.5', 'X'],\n",
        "            ['s1', 'a4', '4.3', 'X'],\n",
        "            ['s2', 'a4', '6.6', 'X']]\n",
        "\n",
        "gamma = 0.9\n",
        "\n",
        "# initialization\n",
        "w = np.array([1,1])\n",
        "Js = []\n",
        "\n",
        "num_iter = 10\n",
        "\n",
        "# batch RL\n",
        "\n",
        "for round in range(num_iter):\n",
        "  # randomly pick one episode (replay buffer)\n",
        "  epi = random.choice(episodes)\n",
        "\n",
        "  state_index = 0\n",
        "  if epi[state_index] == 's1':\n",
        "    xs = xs1\n",
        "  elif epi[state_index] == 's2':\n",
        "    xs = xs2\n",
        "\n",
        "  Gt = 0\n",
        "  num_exp = 0\n",
        "  while True:\n",
        "    #compute Gt\n",
        "    Gt += pow(gamma, num_exp) * float(epi[state_index + 2])\n",
        "    #print(Gt)\n",
        "\n",
        "    vs = np.dot(xs, w) # current estimate\n",
        "    w = w + alpha * (Gt - vs) * xs # update w with Gt\n",
        "\n",
        "    J = pow(Gt - vs, 2) # loss func with Gt\n",
        "\n",
        "    Js.append(J)\n",
        "\n",
        "    # End of the episode\n",
        "    if epi[state_index + 3] == 'X':\n",
        "      break\n",
        "    # does have another state in the episode\n",
        "    else:\n",
        "      num_exp += 1\n",
        "      state_index += 3      \n",
        "\n",
        "  # Print every 100 episode\n",
        "  if round % 1 == 0:\n",
        "    print(f'w: {w}, J: {J}')\n",
        "\n",
        "print(f'Final w: {w}')\n",
        "# plotJs(Js)"
      ],
      "metadata": {
        "id": "qa3Y4Rf_SN4z",
        "colab": {
          "base_uri": "https://localhost:8080/"
        },
        "outputId": "f2f99909-e18a-44f0-accd-3f8303d98aa9"
      },
      "execution_count": null,
      "outputs": [
        {
          "output_type": "stream",
          "name": "stdout",
          "text": [
            "w: [1.05 1.05], J: 6.25\n",
            "w: [1.098 1.098], J: 5.76\n",
            "w: [1.11408 1.11408], J: 0.6464159999999998\n",
            "w: [1.1455168 1.1455168], J: 2.4706809855999983\n",
            "w: [1.20678579 1.26805478], J: 9.384723451740156\n",
            "w: [1.23328898 1.29455797], J: 1.75604749901601\n",
            "w: [1.29939738 1.36066637], J: 23.360469169830132\n",
            "w: [1.3221961 1.3834651], J: 1.2994546498510027\n",
            "w: [1.37241358 1.48390004], J: 6.304486744075664\n",
            "w: [1.37528731 1.48677377], J: 0.02064577468986716\n",
            "Final w: [1.37528731 1.48677377]\n"
          ]
        }
      ]
    }
  ]
}