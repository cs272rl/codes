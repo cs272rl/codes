{
  "nbformat": 4,
  "nbformat_minor": 0,
  "metadata": {
    "colab": {
      "name": "Differential_Privacy.ipynb",
      "provenance": []
    },
    "kernelspec": {
      "name": "python3",
      "display_name": "Python 3"
    },
    "language_info": {
      "name": "python"
    }
  },
  "cells": [
    {
      "cell_type": "markdown",
      "metadata": {
        "id": "QtzCKHQrOOMl"
      },
      "source": [
        "# Differential Privacy"
      ]
    },
    {
      "cell_type": "code",
      "metadata": {
        "colab": {
          "base_uri": "https://localhost:8080/"
        },
        "id": "txkgoUwXOElt",
        "outputId": "200e57e4-09e9-4454-9556-0d4b7697c16f"
      },
      "source": [
        "from google.colab import drive\n",
        "drive.mount('/content/drive')"
      ],
      "execution_count": 84,
      "outputs": [
        {
          "output_type": "stream",
          "name": "stdout",
          "text": [
            "Drive already mounted at /content/drive; to attempt to forcibly remount, call drive.mount(\"/content/drive\", force_remount=True).\n"
          ]
        }
      ]
    },
    {
      "cell_type": "code",
      "metadata": {
        "colab": {
          "base_uri": "https://localhost:8080/"
        },
        "id": "WXb5r58pOgBp",
        "outputId": "11d9e892-c60b-4ec3-9cf0-e874d99e75b4"
      },
      "source": [
        "import pandas as pd\n",
        "from csv import reader\n",
        "import numpy as np\n",
        "import matplotlib.pyplot as plt\n",
        "plt.style.use('seaborn-whitegrid')\n",
        "csv_file = \"/content/drive/MyDrive/Colab Notebooks/adult_with_pii.csv\"\n",
        "adult = pd.read_csv(csv_file)\n",
        "\n",
        "with open(csv_file, 'r') as ro:\n",
        "  creader = reader(ro)\n",
        "  for i, row in enumerate(creader):\n",
        "    print(row)\n",
        "    if i > 10:\n",
        "      break"
      ],
      "execution_count": 85,
      "outputs": [
        {
          "output_type": "stream",
          "name": "stdout",
          "text": [
            "['Name', 'DOB', 'SSN', 'Zip', 'Age', 'Workclass', 'fnlwgt', 'Education', 'Education-Num', 'Marital Status', 'Occupation', 'Relationship', 'Race', 'Sex', 'Capital Gain', 'Capital Loss', 'Hours per week', 'Country', 'Target']\n",
            "['Karrie Trusslove', '9/7/1967', '732-14-6110', '64152', '39', 'State-gov', '77516', 'Bachelors', '13', 'Never-married', 'Adm-clerical', 'Not-in-family', 'White', 'Male', '2174', '0', '40', 'United-States', '<=50K']\n",
            "['Brandise Tripony', '6/7/1988', '150-19-2766', '61523', '50', 'Self-emp-not-inc', '83311', 'Bachelors', '13', 'Married-civ-spouse', 'Exec-managerial', 'Husband', 'White', 'Male', '0', '0', '13', 'United-States', '<=50K']\n",
            "['Brenn McNeely', '8/6/1991', '725-59-9860', '95668', '38', 'Private', '215646', 'HS-grad', '9', 'Divorced', 'Handlers-cleaners', 'Not-in-family', 'White', 'Male', '0', '0', '40', 'United-States', '<=50K']\n",
            "['Dorry Poter', '4/6/2009', '659-57-4974', '25503', '53', 'Private', '234721', '11th', '7', 'Married-civ-spouse', 'Handlers-cleaners', 'Husband', 'Black', 'Male', '0', '0', '40', 'United-States', '<=50K']\n",
            "['Dick Honnan', '9/16/1951', '220-93-3811', '75387', '28', 'Private', '338409', 'Bachelors', '13', 'Married-civ-spouse', 'Prof-specialty', 'Wife', 'Black', 'Female', '0', '0', '40', 'Cuba', '<=50K']\n",
            "['Allene Raff', '8/2/2001', '535-53-2336', '9820', '37', 'Private', '284582', 'Masters', '14', 'Married-civ-spouse', 'Exec-managerial', 'Wife', 'White', 'Female', '0', '0', '40', 'United-States', '<=50K']\n",
            "['Clevie Schimoni', '10/17/1989', '787-78-1258', '87125', '49', 'Private', '160187', '9th', '5', 'Married-spouse-absent', 'Other-service', 'Not-in-family', 'Black', 'Female', '0', '0', '16', 'Jamaica', '<=50K']\n",
            "['Erhard Nesbeth', '7/25/1971', '208-67-0874', '60887', '52', 'Self-emp-not-inc', '209642', 'HS-grad', '9', 'Married-civ-spouse', 'Exec-managerial', 'Husband', 'White', 'Male', '0', '0', '45', 'United-States', '>50K']\n",
            "['Hedvige Fairpo', '8/10/2001', '691-69-7317', '81548', '31', 'Private', '45781', 'Masters', '14', 'Never-married', 'Prof-specialty', 'Not-in-family', 'White', 'Female', '14084', '0', '50', 'United-States', '>50K']\n",
            "['Kally Ayers', '7/31/1998', '632-53-4141', '51592', '42', 'Private', '159449', 'Bachelors', '13', 'Married-civ-spouse', 'Exec-managerial', 'Husband', 'White', 'Male', '5178', '0', '40', 'United-States', '>50K']\n",
            "['Binni Mc Mechan', '6/23/2009', '119-26-4980', '90245', '37', 'Private', '280464', 'Some-college', '10', 'Married-civ-spouse', 'Exec-managerial', 'Husband', 'Black', 'Male', '0', '0', '80', 'United-States', '>50K']\n"
          ]
        }
      ]
    },
    {
      "cell_type": "code",
      "metadata": {
        "colab": {
          "base_uri": "https://localhost:8080/"
        },
        "id": "FSw_EXd1QEWC",
        "outputId": "dd91f227-3150-41d5-f1c7-5549ee5ebcfd"
      },
      "source": [
        "adult[adult['Age'] >= 40].shape[0]"
      ],
      "execution_count": 86,
      "outputs": [
        {
          "output_type": "execute_result",
          "data": {
            "text/plain": [
              "14237"
            ]
          },
          "metadata": {},
          "execution_count": 86
        }
      ]
    },
    {
      "cell_type": "code",
      "metadata": {
        "colab": {
          "base_uri": "https://localhost:8080/"
        },
        "id": "8QCte1lwQKEA",
        "outputId": "bb22b1bb-2422-4df4-8d07-fe72412760df"
      },
      "source": [
        "sensitivity = 1\n",
        "epsilon = 0.1\n",
        "\n",
        "adult[adult['Age'] >= 40].shape[0] + np.random.normal(loc=0, scale=sensitivity/epsilon)\n",
        "\n",
        "age_col = 4\n",
        "true_total = 0.0\n",
        "noisy_total = 0.0\n",
        "for row in adult.values:\n",
        "  true_total += int(row[age_col] >= 40)\n",
        "  noisy_total += int(row[age_col] >= 40) + np.random.normal(loc=0, scale=(sensitivity/epsilon))\n",
        "\n",
        "print(f'total: {true_total}')\n",
        "print(f'total: {noisy_total}')"
      ],
      "execution_count": 108,
      "outputs": [
        {
          "output_type": "stream",
          "name": "stdout",
          "text": [
            "total: 14237.0\n",
            "total: 14253.765376051038\n"
          ]
        }
      ]
    },
    {
      "cell_type": "code",
      "metadata": {
        "colab": {
          "base_uri": "https://localhost:8080/"
        },
        "id": "-jMiLkKGRLZi",
        "outputId": "8f5c86f4-5e1d-4274-84f4-1219ace0dcad"
      },
      "source": [
        "karries_row = adult[adult['Name'] == 'Karrie Trusslove']\n",
        "karries_row[karries_row['Age'] >= 40].shape[0]"
      ],
      "execution_count": 93,
      "outputs": [
        {
          "output_type": "execute_result",
          "data": {
            "text/plain": [
              "0"
            ]
          },
          "metadata": {},
          "execution_count": 93
        }
      ]
    },
    {
      "cell_type": "code",
      "metadata": {
        "colab": {
          "base_uri": "https://localhost:8080/"
        },
        "id": "TS41XU6ZRMmE",
        "outputId": "e01b7b1e-8c28-42a8-b16c-7cb421c92247"
      },
      "source": [
        "sensitivity = 1\n",
        "epsilon = 0.1\n",
        "\n",
        "karries_row = adult[adult['Name'] == 'Karrie Trusslove']\n",
        "karries_row[karries_row['Age'] >= 40].shape[0] + \\\n",
        "  np.random.laplace(loc=0, scale=(sensitivity/epsilon) * (1.0/adult.size))"
      ],
      "execution_count": 98,
      "outputs": [
        {
          "output_type": "execute_result",
          "data": {
            "text/plain": [
              "6.7229275340593395e-06"
            ]
          },
          "metadata": {},
          "execution_count": 98
        }
      ]
    }
  ]
}